{
 "cells": [
  {
   "cell_type": "code",
   "execution_count": 81,
   "metadata": {},
   "outputs": [],
   "source": [
    "import os"
   ]
  },
  {
   "cell_type": "code",
   "execution_count": 82,
   "metadata": {},
   "outputs": [
    {
     "data": {
      "text/plain": [
       "['Folder2',\n",
       " 'Folder 3 aasjdkhaskdh afhkjash',\n",
       " 'Untitled.ipynb',\n",
       " '.ipynb_checkpoints',\n",
       " 'Folder1',\n",
       " 'folderNames.csv']"
      ]
     },
     "execution_count": 82,
     "metadata": {},
     "output_type": "execute_result"
    }
   ],
   "source": [
    "os.listdir('.')"
   ]
  },
  {
   "cell_type": "code",
   "execution_count": 67,
   "metadata": {},
   "outputs": [
    {
     "name": "stdout",
     "output_type": "stream",
     "text": [
      "['Folder2', 'Folder 3 aasjdkhaskdh afhkjash', 'Folder1']\n"
     ]
    }
   ],
   "source": [
    "print( [name for name in os.listdir(\".\") if os.path.isdir(name) and name.startswith('.')!=True])"
   ]
  },
  {
   "cell_type": "code",
   "execution_count": 96,
   "metadata": {},
   "outputs": [],
   "source": [
    "allDir=list()\n",
    "def getListOfFiles(dirName):\n",
    "    # create a list of file and sub directories \n",
    "    # names in the given directory \n",
    "    listOfFile = os.listdir(dirName)\n",
    "    allFiles = list()\n",
    "    # Iterate over all the entries\n",
    "    for entry in listOfFile:\n",
    "        if entry.startswith('.')!=True:\n",
    "            fullPath = os.path.join(dirName, entry)\n",
    "            if os.path.isdir(fullPath):\n",
    "                allDir.append(entry)\n",
    "                allFiles = allFiles + getListOfFiles(fullPath)\n",
    "            else:\n",
    "                allFiles.append(fullPath)\n",
    "#     for j in [i for i in allFiles if i.endswith(('.jpg','jpeg','.png','.PNG','.JPG','.JPEG'))]:\n",
    "#         for k in allDir:\n",
    "# #             if j.startswith(f'./{k}/'):\n",
    "#                 print(j)\n",
    "#     return allDir\n",
    "    return [i for i in allFiles if i.endswith(('.jpg','jpeg','.png','.PNG','.JPG','.JPEG'))]"
   ]
  },
  {
   "cell_type": "code",
   "execution_count": 97,
   "metadata": {},
   "outputs": [],
   "source": [
    "listOfFiles=getListOfFiles('.')"
   ]
  },
  {
   "cell_type": "code",
   "execution_count": 110,
   "metadata": {},
   "outputs": [],
   "source": [
    "my_dict=dict(\n",
    "    FolderName=[],\n",
    "    FolderContents=[],\n",
    "    FolderContentCount=[],\n",
    ")\n",
    "for j in allDir:\n",
    "    my_dict[\"FolderName\"].append(j)\n",
    "    li=[]\n",
    "    for i in listOfFiles:\n",
    "        if i.startswith(f'./{j}/'):\n",
    "            li.append(i)\n",
    "    my_dict[\"FolderContents\"].append(li)\n",
    "    my_dict[\"FolderContentCount\"].append(len(li))\n",
    "    \n",
    "# for i in listOfFiles:\n",
    "#     for j in allDir:\n",
    "#         if i.startswith(f'./{j}/'):\n",
    "#             my_dict['FolderContents'].append(i)\n",
    "#             my_dict['FolderName']=j"
   ]
  },
  {
   "cell_type": "code",
   "execution_count": 111,
   "metadata": {},
   "outputs": [],
   "source": [
    "import pandas as pd"
   ]
  },
  {
   "cell_type": "code",
   "execution_count": 116,
   "metadata": {},
   "outputs": [],
   "source": [
    "pd.DataFrame(my_dict).to_csv('folderNames.csv',index=False)"
   ]
  }
 ],
 "metadata": {
  "kernelspec": {
   "display_name": "Python 3",
   "language": "python",
   "name": "python3"
  },
  "language_info": {
   "codemirror_mode": {
    "name": "ipython",
    "version": 3
   },
   "file_extension": ".py",
   "mimetype": "text/x-python",
   "name": "python",
   "nbconvert_exporter": "python",
   "pygments_lexer": "ipython3",
   "version": "3.6.9"
  }
 },
 "nbformat": 4,
 "nbformat_minor": 4
}
